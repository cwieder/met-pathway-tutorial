{
 "cells": [
  {
   "cell_type": "markdown",
   "metadata": {
    "collapsed": true,
    "pycharm": {
     "name": "#%% md\n"
    }
   },
   "source": [
    "# Introduction to pathway analysis in metabolomics"
   ]
  },
  {
   "cell_type": "markdown",
   "source": [
    "### Data import\n",
    "First we are going to import the KEGG human pathways and the processed metabolomics dataset we will be working with.\n",
    "\n",
    "\n"
   ],
   "metadata": {
    "collapsed": false,
    "pycharm": {
     "name": "#%% md\n"
    }
   }
  },
  {
   "cell_type": "code",
   "execution_count": 1,
   "outputs": [],
   "source": [
    "import pandas as pd"
   ],
   "metadata": {
    "collapsed": false,
    "pycharm": {
     "name": "#%%\n"
    }
   }
  },
  {
   "cell_type": "code",
   "execution_count": 2,
   "outputs": [],
   "source": [
    "# Import pathway database\n",
    "KEGG_human_pathways = pd.read_csv(\"KEGG_human_pathways_compounds_R98.csv\", dtype=str, index_col=0)\n",
    "\n",
    "# Import dataset\n",
    "covid_data = pd.read_csv(\"Su_COVID_metabolomics_processed.csv\", index_col=0)"
   ],
   "metadata": {
    "collapsed": false,
    "pycharm": {
     "name": "#%%\n"
    }
   }
  },
  {
   "cell_type": "markdown",
   "source": [
    "The dataset we will be working with is from Su et al. \"Multi-Omics Resolves a Sharp Disease-State Shift between Mild and Moderate COVID-19\". It is an untargeted metabolomics dataset from Metabolon with n samples and n compounds.\n",
    "\n",
    "The first step in the pathway analysis workflow is to convert the compound names or identifiers to the identifier type of the pathway database used. In this example, we are using the KEGG database and will be converting componund names to KEGG compound identifiers."
   ],
   "metadata": {
    "collapsed": false,
    "pycharm": {
     "name": "#%% md\n"
    }
   }
  },
  {
   "cell_type": "markdown",
   "source": [
    "## Over-representation analysis\n",
    "Theory\n",
    "Diagram"
   ],
   "metadata": {
    "collapsed": false,
    "pycharm": {
     "name": "#%% md\n"
    }
   }
  },
  {
   "cell_type": "code",
   "execution_count": null,
   "outputs": [],
   "source": [
    "\n"
   ],
   "metadata": {
    "collapsed": false,
    "pycharm": {
     "name": "#%%\n"
    }
   }
  }
 ],
 "metadata": {
  "kernelspec": {
   "display_name": "Python 3",
   "language": "python",
   "name": "python3"
  },
  "language_info": {
   "codemirror_mode": {
    "name": "ipython",
    "version": 2
   },
   "file_extension": ".py",
   "mimetype": "text/x-python",
   "name": "python",
   "nbconvert_exporter": "python",
   "pygments_lexer": "ipython2",
   "version": "2.7.6"
  }
 },
 "nbformat": 4,
 "nbformat_minor": 0
}